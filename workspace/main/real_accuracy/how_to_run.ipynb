{
 "cells": [
  {
   "cell_type": "markdown",
   "id": "0454ba44-632d-4451-a2b8-20748a921239",
   "metadata": {},
   "source": [
    "## Setup Instructions\n",
    "\n",
    "### APQ Folder\n",
    "The **APQ folder** can be run as shown in the  \n",
    "[APQ GitHub repository](https://github.com/mit-han-lab/apq/tree/master)  \n",
    "(see the *Fine-Tuning* section).  \n",
    "The necessary files are also available here.\n",
    "\n",
    "---\n",
    "\n",
    "### 1 Prepare Architecture Files\n",
    "Before running this notebook, copy the **software parameters** and **quantization parameters** of your architecture to:\n",
    "\n",
    "main/real_accuracy/exps/test/arch\n",
    "\n"
   ]
  },
  {
   "cell_type": "markdown",
   "id": "0d3ee408-0aa1-4eaf-aed1-4ead71007dd0",
   "metadata": {},
   "source": [
    "\n",
    "---\n",
    "\n",
    "### 2 Dataset and Model Preparation\n",
    "\n",
    "1. **Download the ImageNet dataset**  \n",
    "   Place it in:  dataset/imagenet\n"
   ]
  },
  {
   "cell_type": "markdown",
   "id": "d69dbc69-5c9b-45d9-892a-fd35359b6af3",
   "metadata": {},
   "source": [
    "\n",
    "2. **Download checkpoints for the quantization-aware predictor**  \n",
    "[Download here](https://drive.google.com/file/d/1onIxkfLF-QCxi9YxzwQt6SpAaYNJBUDs/view?usp=sharing)\n",
    "\n",
    "3. **Download checkpoints for the Once-for-All network**  \n",
    "[Download here](https://drive.google.com/file/d/1k9tv1ISsB-QDENspiuR82rDvaIYGIKD5/view?usp=sharing)\n",
    "\n",
    "4. **Put all downloaded checkpoints into the `models` folder**  \n",
    "Follow the structure shown in the  \n",
    "[APQ repository?s Dataset and Model Preparation section](https://github.com/mit-han-lab/apq/tree/master?tab=readme-ov-file#dataset-and-model-preparation).\n"
   ]
  },
  {
   "cell_type": "markdown",
   "id": "de6bca83-12b1-48df-b056-7cad3fe2630b",
   "metadata": {},
   "source": [
    "---\n",
    "\n",
    "### 3 Run Quantization-Aware Training\n",
    "\n",
    "After completing the setup:\n",
    "\n",
    " **Activate your environment and Run the quantization-aware script (select available devices as needed)**\n",
    "```bash\n",
    "conda activate ./env\n",
    "CUDA_VISIBLE_DEVICES=0 python quant_aware.py --exp_name=test\n"
   ]
  },
  {
   "cell_type": "code",
   "execution_count": null,
   "id": "c33e9c26-60ed-4f90-b15e-af270ea8b0d6",
   "metadata": {},
   "outputs": [],
   "source": []
  }
 ],
 "metadata": {
  "kernelspec": {
   "display_name": "Python 3 (ipykernel)",
   "language": "python",
   "name": "python3"
  },
  "language_info": {
   "codemirror_mode": {
    "name": "ipython",
    "version": 3
   },
   "file_extension": ".py",
   "mimetype": "text/x-python",
   "name": "python",
   "nbconvert_exporter": "python",
   "pygments_lexer": "ipython3",
   "version": "3.10.12"
  }
 },
 "nbformat": 4,
 "nbformat_minor": 5
}
