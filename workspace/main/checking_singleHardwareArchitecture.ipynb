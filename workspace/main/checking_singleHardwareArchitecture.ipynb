{
 "cells": [
  {
   "cell_type": "markdown",
   "id": "881c2c55-4c02-4f4f-8804-37da80b0d84f",
   "metadata": {},
   "source": [
    "### Function to Run a Single Architecture\n",
    "\n",
    "This function runs a **single architecture** for a specific list of **software values**, **quantization**, and **hardware parameters**,  \n",
    "and retrieves the corresponding **hardware metrics**.\n"
   ]
  },
  {
   "cell_type": "code",
   "execution_count": 2,
   "id": "c59127bd-7910-4adc-add5-b67b60e82d4c",
   "metadata": {},
   "outputs": [
    {
     "data": {
      "text/plain": [
       "{'e': 0.0009203256376360968,\n",
       " 'a': 25.49022116081664,\n",
       " 'l': 7.044000000000003e-06,\n",
       " 'a_tpm': 0.7444271850443894,\n",
       " 'a_tpw': 1.3855719717451387,\n",
       " 'u': 64.6,\n",
       " 'au': 1646.6682869887547,\n",
       " 'm_tpm': 2.1259164311724583,\n",
       " 'm_tpw': 8.262998688496848,\n",
       " 'tp': 1897.5613584905657,\n",
       " 'acc': 0.8790326118469238}"
      ]
     },
     "execution_count": 2,
     "metadata": {},
     "output_type": "execute_result"
    }
   ],
   "source": [
    "import json\n",
    "import re\n",
    "import numpy as np\n",
    "from scripts_new import *\n",
    "from CIMNASfunRunSingle import *\n",
    "d_list=[2,3,4,3,3,2]\n",
    "ks_list=[3, 3, 3, 3, 3, 3, 3, 3, 3, 3, 3, 3, 3, 3, 3, 3, 3, 3, 3, 3, 3]\n",
    "e_list=[6.0, 6.0, 6.0, 6.0, 6.0, 6.0, 6.0, 6.0, 6.0, 6.0, 6.0, 6.0, 6.0, 6.0, 6.0, 6.0, 6.0, 6.0, 6.0, 6.0, 6.0]\n",
    "pw_w_bits_list=[8, 8, 8, 8, 8, 8, 8, 8, 8, 8, 8, 8, 8, 8, 8, 8, 8, 8, 8, 8, 8]\n",
    "pw_a_bits_list=[8, 8, 8, 8, 8, 8, 8, 8, 8, 8, 8, 8, 8, 8, 8, 8, 8, 8, 8, 8, 8]\n",
    "dw_w_bits_list=[8, 8, 8, 8, 8, 8, 8, 8, 8, 8, 8, 8, 8, 8, 8, 8, 8, 8, 8, 8, 8]\n",
    "dw_a_bits_list=[8, 8, 8, 8, 8, 8, 8, 8, 8, 8, 8, 8, 8, 8, 8, 8, 8, 8, 8, 8, 8]\n",
    "# set number fo CPU cores for multithresding:\n",
    "n_jobs=61\n",
    "#set to -1 to use all the cores\n",
    "#set to 64 to use 64 cores!\n",
    "dnn_name=\"mobilenet_v2\"\n",
    "num_iterations_to_run=1\n",
    "num_mapping=None\n",
    "hardware_params=[0.7, 4, 4e-09, 128, 128, 8, 16, 16, 16384]\n",
    "dictts=runSingle(dnn_name, num_iterations_to_run, num_mapping,n_jobs, d_list, ks_list, e_list, pw_w_bits_list, pw_a_bits_list, dw_w_bits_list, dw_a_bits_list, hardware_params)\n",
    "dictts"
   ]
  }
 ],
 "metadata": {
  "kernelspec": {
   "display_name": "Python 3 (ipykernel)",
   "language": "python",
   "name": "python3"
  },
  "language_info": {
   "codemirror_mode": {
    "name": "ipython",
    "version": 3
   },
   "file_extension": ".py",
   "mimetype": "text/x-python",
   "name": "python",
   "nbconvert_exporter": "python",
   "pygments_lexer": "ipython3",
   "version": "3.10.12"
  }
 },
 "nbformat": 4,
 "nbformat_minor": 5
}
